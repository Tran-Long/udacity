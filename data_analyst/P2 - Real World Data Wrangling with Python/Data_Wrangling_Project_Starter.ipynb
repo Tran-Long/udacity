{
 "cells": [
  {
   "cell_type": "markdown",
   "metadata": {
    "id": "GNIwe5N7s0e_"
   },
   "source": [
    "# Real-world Data Wrangling"
   ]
  },
  {
   "cell_type": "code",
   "execution_count": 1,
   "metadata": {},
   "outputs": [
    {
     "name": "stdout",
     "output_type": "stream",
     "text": [
      "Collecting kaggle\n",
      "  Downloading kaggle-1.6.17.tar.gz (82 kB)\n",
      "\u001b[2K     \u001b[90m━━━━━━━━━━━━━━━━━━━━━━━━━━━━━━━━━━━━━━━━\u001b[0m \u001b[32m82.7/82.7 kB\u001b[0m \u001b[31m1.2 MB/s\u001b[0m eta \u001b[36m0:00:00\u001b[0ma \u001b[36m0:00:01\u001b[0m\n",
      "\u001b[?25h  Preparing metadata (setup.py) ... \u001b[?25ldone\n",
      "\u001b[?25hRequirement already satisfied: six>=1.10 in /home/parzival/miniconda3/envs/misc311/lib/python3.11/site-packages (from kaggle) (1.16.0)\n",
      "Collecting certifi>=2023.7.22 (from kaggle)\n",
      "  Downloading certifi-2024.8.30-py3-none-any.whl.metadata (2.2 kB)\n",
      "Requirement already satisfied: python-dateutil in /home/parzival/miniconda3/envs/misc311/lib/python3.11/site-packages (from kaggle) (2.8.2)\n",
      "Requirement already satisfied: requests in /home/parzival/miniconda3/envs/misc311/lib/python3.11/site-packages (from kaggle) (2.28.1)\n",
      "Requirement already satisfied: tqdm in /home/parzival/miniconda3/envs/misc311/lib/python3.11/site-packages (from kaggle) (4.66.1)\n",
      "Collecting python-slugify (from kaggle)\n",
      "  Downloading python_slugify-8.0.4-py2.py3-none-any.whl.metadata (8.5 kB)\n",
      "Requirement already satisfied: urllib3 in /home/parzival/miniconda3/envs/misc311/lib/python3.11/site-packages (from kaggle) (1.26.13)\n",
      "Requirement already satisfied: bleach in /home/parzival/miniconda3/envs/misc311/lib/python3.11/site-packages (from kaggle) (6.1.0)\n",
      "Requirement already satisfied: webencodings in /home/parzival/miniconda3/envs/misc311/lib/python3.11/site-packages (from bleach->kaggle) (0.5.1)\n",
      "Collecting text-unidecode>=1.3 (from python-slugify->kaggle)\n",
      "  Downloading text_unidecode-1.3-py2.py3-none-any.whl.metadata (2.4 kB)\n",
      "Requirement already satisfied: charset-normalizer<3,>=2 in /home/parzival/miniconda3/envs/misc311/lib/python3.11/site-packages (from requests->kaggle) (2.1.1)\n",
      "Requirement already satisfied: idna<4,>=2.5 in /home/parzival/miniconda3/envs/misc311/lib/python3.11/site-packages (from requests->kaggle) (3.4)\n",
      "Downloading certifi-2024.8.30-py3-none-any.whl (167 kB)\n",
      "\u001b[2K   \u001b[90m━━━━━━━━━━━━━━━━━━━━━━━━━━━━━━━━━━━━━━━━\u001b[0m \u001b[32m167.3/167.3 kB\u001b[0m \u001b[31m3.2 MB/s\u001b[0m eta \u001b[36m0:00:00\u001b[0ma \u001b[36m0:00:01\u001b[0m\n",
      "\u001b[?25hDownloading python_slugify-8.0.4-py2.py3-none-any.whl (10 kB)\n",
      "Downloading text_unidecode-1.3-py2.py3-none-any.whl (78 kB)\n",
      "\u001b[2K   \u001b[90m━━━━━━━━━━━━━━━━━━━━━━━━━━━━━━━━━━━━━━━━\u001b[0m \u001b[32m78.2/78.2 kB\u001b[0m \u001b[31m4.1 MB/s\u001b[0m eta \u001b[36m0:00:00\u001b[0m\n",
      "\u001b[?25hBuilding wheels for collected packages: kaggle\n",
      "  Building wheel for kaggle (setup.py) ... \u001b[?25ldone\n",
      "\u001b[?25h  Created wheel for kaggle: filename=kaggle-1.6.17-py3-none-any.whl size=105786 sha256=f6ccd4b4b94383b08d6f88317ce46735791f2298b01e7e9817f786fd48314364\n",
      "  Stored in directory: /home/parzival/.cache/pip/wheels/ff/55/fb/b27a466be754d2a06ffe0e37b248d844f090a63b51becea85d\n",
      "Successfully built kaggle\n",
      "Installing collected packages: text-unidecode, python-slugify, certifi, kaggle\n",
      "  Attempting uninstall: certifi\n",
      "    Found existing installation: certifi 2022.12.7\n",
      "    Uninstalling certifi-2022.12.7:\n",
      "      Successfully uninstalled certifi-2022.12.7\n",
      "Successfully installed certifi-2024.8.30 kaggle-1.6.17 python-slugify-8.0.4 text-unidecode-1.3\n"
     ]
    }
   ],
   "source": [
    "!python -m pip install kaggle"
   ]
  },
  {
   "cell_type": "code",
   "execution_count": 1,
   "metadata": {},
   "outputs": [
    {
     "name": "stdout",
     "output_type": "stream",
     "text": [
      "Warning: Your Kaggle API key is readable by other users on this system! To fix this, you can run 'chmod 600 /home/parzival/.kaggle/kaggle.json'\n"
     ]
    }
   ],
   "source": [
    "import numpy as np\n",
    "import pandas as pd\n",
    "import matplotlib.pyplot as plt\n",
    "import kaggle"
   ]
  },
  {
   "cell_type": "markdown",
   "metadata": {},
   "source": [
    "**Note:** Restart the kernel to use updated package(s)."
   ]
  },
  {
   "cell_type": "markdown",
   "metadata": {
    "id": "lDYDkH-Zs7Nn"
   },
   "source": [
    "## 1. Gather data\n",
    "\n",
    "In this section, you will extract data using two different data gathering methods and combine the data. Use at least two different types of data-gathering methods."
   ]
  },
  {
   "cell_type": "markdown",
   "metadata": {
    "id": "LbN7z7rcuqpO"
   },
   "source": [
    "### **1.1.** Problem Statement\n",
    "For this project, I want to analyze the impact of different economic factors such as GDP, Inflation, Health expenditure, and different economic activities on life expectancy of Zimbabwe from 2000 to 2021. \n",
    "\n",
    "I will use 2 datasets to achieve this goal\n",
    "- The first one is the [World Bank Data on Countries](https://www.kaggle.com/datasets/yusufglcan/country-data). This dataset contains information about GDP, Inflation, Health&Education Expenditures,...\n",
    "- The second one is the [Life expectancy around the world](https://www.kaggle.com/datasets/mahdiehhajian/life-expectancy-around-the-world?select=life-expectancy.csv). This dataset contain the average life expectancy at birth of each country through times"
   ]
  },
  {
   "cell_type": "markdown",
   "metadata": {
    "id": "8AQfBAdUypMm"
   },
   "source": [
    "### **1.2.** Gather at least two datasets using two different data gathering methods"
   ]
  },
  {
   "cell_type": "markdown",
   "metadata": {
    "id": "7e6gS0wL1KTu"
   },
   "source": [
    "#### **Dataset 1 - [World Bank Data on Countries](https://www.kaggle.com/datasets/yusufglcan/country-data)**\n",
    "\n",
    "Type: CSV File\n",
    "\n",
    "Method: The data was gathered programatically by accessing Kaggle API.\n",
    "\n",
    "Dataset variables:\n",
    "*   Country and year\n",
    "*   GDP Per Capita: GDP per capita calculates the average income of each individual in a country and is an indicator of living standards.\n",
    "*   Inflation Rate: The inflation rate indicates the rate at which the general price level of goods and services rises, affecting a country's purchasing power.\n",
    "*   Health Expenditures (% in GDP): This metric reflects the proportion of a country's GDP allocated to healthcare, highlighting its commitment to public health.\n",
    "*   Agricultural Activities (% in GDP): This metric measures the contribution of the agricultural sector to a nation's economy.\n",
    "*   Service Activities (% in GDP): The service sector's percentage of GDP shows the importance of services in economic activities.\n",
    "*   Industrial Activities (% in GDP): Industrial activities as a percentage of GDP signify the role of manufacturing and industry in a country's economy.\n",
    "*   ..."
   ]
  },
  {
   "cell_type": "code",
   "execution_count": 2,
   "metadata": {},
   "outputs": [
    {
     "name": "stdout",
     "output_type": "stream",
     "text": [
      "Dataset URL: https://www.kaggle.com/datasets/yusufglcan/country-data\n",
      "Archive:  Countries.csv.zip\n",
      "  inflating: Countries.csv           \n"
     ]
    }
   ],
   "source": [
    "# Gathering data, unzip and remove the zip file (with done setting up the authentication)\n",
    "kaggle.api.dataset_download_file(\"yusufglcan/country-data\", \"Countries.csv\", path=\"./\")\n",
    "!unzip -o Countries.csv.zip\n",
    "!rm -f Countries.csv.zip"
   ]
  },
  {
   "cell_type": "code",
   "execution_count": 2,
   "metadata": {
    "id": "Su8E0uLuYkHU"
   },
   "outputs": [
    {
     "data": {
      "text/html": [
       "<div>\n",
       "<style scoped>\n",
       "    .dataframe tbody tr th:only-of-type {\n",
       "        vertical-align: middle;\n",
       "    }\n",
       "\n",
       "    .dataframe tbody tr th {\n",
       "        vertical-align: top;\n",
       "    }\n",
       "\n",
       "    .dataframe thead th {\n",
       "        text-align: right;\n",
       "    }\n",
       "</style>\n",
       "<table border=\"1\" class=\"dataframe\">\n",
       "  <thead>\n",
       "    <tr style=\"text-align: right;\">\n",
       "      <th></th>\n",
       "      <th>Country Name</th>\n",
       "      <th>Country Code</th>\n",
       "      <th>Year</th>\n",
       "      <th>Agriculture (% GDP)</th>\n",
       "      <th>Ease of Doing Business</th>\n",
       "      <th>Education Expenditure (% GDP)</th>\n",
       "      <th>Export (% GDP)</th>\n",
       "      <th>GDP</th>\n",
       "      <th>Health Expenditure (% GDP)</th>\n",
       "      <th>Import (% GDP)</th>\n",
       "      <th>...</th>\n",
       "      <th>Population</th>\n",
       "      <th>Land</th>\n",
       "      <th>Continent Name</th>\n",
       "      <th>Export</th>\n",
       "      <th>Import</th>\n",
       "      <th>Education Expenditure</th>\n",
       "      <th>Health Expenditure</th>\n",
       "      <th>Net Trade</th>\n",
       "      <th>GDP Per Capita</th>\n",
       "      <th>Population Density</th>\n",
       "    </tr>\n",
       "  </thead>\n",
       "  <tbody>\n",
       "    <tr>\n",
       "      <th>0</th>\n",
       "      <td>Afghanistan</td>\n",
       "      <td>AFG</td>\n",
       "      <td>2000</td>\n",
       "      <td>27.501127</td>\n",
       "      <td>40.717968</td>\n",
       "      <td>13.670101</td>\n",
       "      <td>NaN</td>\n",
       "      <td>1.415197e+10</td>\n",
       "      <td>10.902580</td>\n",
       "      <td>NaN</td>\n",
       "      <td>...</td>\n",
       "      <td>19542982.0</td>\n",
       "      <td>652860.0</td>\n",
       "      <td>Asia</td>\n",
       "      <td>NaN</td>\n",
       "      <td>NaN</td>\n",
       "      <td>1.934589e+09</td>\n",
       "      <td>1.542930e+09</td>\n",
       "      <td>NaN</td>\n",
       "      <td>724.145910</td>\n",
       "      <td>29.934415</td>\n",
       "    </tr>\n",
       "    <tr>\n",
       "      <th>1</th>\n",
       "      <td>Afghanistan</td>\n",
       "      <td>AFG</td>\n",
       "      <td>2001</td>\n",
       "      <td>27.501127</td>\n",
       "      <td>40.717968</td>\n",
       "      <td>13.670101</td>\n",
       "      <td>NaN</td>\n",
       "      <td>1.415197e+10</td>\n",
       "      <td>10.902580</td>\n",
       "      <td>NaN</td>\n",
       "      <td>...</td>\n",
       "      <td>19688632.0</td>\n",
       "      <td>652860.0</td>\n",
       "      <td>Asia</td>\n",
       "      <td>NaN</td>\n",
       "      <td>NaN</td>\n",
       "      <td>1.934589e+09</td>\n",
       "      <td>1.542930e+09</td>\n",
       "      <td>NaN</td>\n",
       "      <td>718.788917</td>\n",
       "      <td>30.157510</td>\n",
       "    </tr>\n",
       "    <tr>\n",
       "      <th>2</th>\n",
       "      <td>Afghanistan</td>\n",
       "      <td>AFG</td>\n",
       "      <td>2002</td>\n",
       "      <td>38.627892</td>\n",
       "      <td>40.717968</td>\n",
       "      <td>13.670101</td>\n",
       "      <td>NaN</td>\n",
       "      <td>3.854235e+09</td>\n",
       "      <td>9.443391</td>\n",
       "      <td>NaN</td>\n",
       "      <td>...</td>\n",
       "      <td>21000256.0</td>\n",
       "      <td>652860.0</td>\n",
       "      <td>Asia</td>\n",
       "      <td>NaN</td>\n",
       "      <td>NaN</td>\n",
       "      <td>5.268779e+08</td>\n",
       "      <td>3.639705e+08</td>\n",
       "      <td>NaN</td>\n",
       "      <td>183.532775</td>\n",
       "      <td>32.166553</td>\n",
       "    </tr>\n",
       "    <tr>\n",
       "      <th>3</th>\n",
       "      <td>Afghanistan</td>\n",
       "      <td>AFG</td>\n",
       "      <td>2003</td>\n",
       "      <td>37.418855</td>\n",
       "      <td>40.717968</td>\n",
       "      <td>13.670101</td>\n",
       "      <td>NaN</td>\n",
       "      <td>4.539497e+09</td>\n",
       "      <td>8.941258</td>\n",
       "      <td>NaN</td>\n",
       "      <td>...</td>\n",
       "      <td>22645130.0</td>\n",
       "      <td>652860.0</td>\n",
       "      <td>Asia</td>\n",
       "      <td>NaN</td>\n",
       "      <td>NaN</td>\n",
       "      <td>6.205538e+08</td>\n",
       "      <td>4.058881e+08</td>\n",
       "      <td>NaN</td>\n",
       "      <td>200.462376</td>\n",
       "      <td>34.686043</td>\n",
       "    </tr>\n",
       "    <tr>\n",
       "      <th>4</th>\n",
       "      <td>Afghanistan</td>\n",
       "      <td>AFG</td>\n",
       "      <td>2004</td>\n",
       "      <td>29.721067</td>\n",
       "      <td>40.717968</td>\n",
       "      <td>13.670101</td>\n",
       "      <td>NaN</td>\n",
       "      <td>5.220825e+09</td>\n",
       "      <td>9.808474</td>\n",
       "      <td>NaN</td>\n",
       "      <td>...</td>\n",
       "      <td>23553551.0</td>\n",
       "      <td>652860.0</td>\n",
       "      <td>Asia</td>\n",
       "      <td>NaN</td>\n",
       "      <td>NaN</td>\n",
       "      <td>7.136921e+08</td>\n",
       "      <td>5.120832e+08</td>\n",
       "      <td>NaN</td>\n",
       "      <td>221.657662</td>\n",
       "      <td>36.077491</td>\n",
       "    </tr>\n",
       "  </tbody>\n",
       "</table>\n",
       "<p>5 rows × 25 columns</p>\n",
       "</div>"
      ],
      "text/plain": [
       "  Country Name Country Code  Year  Agriculture (% GDP)  \\\n",
       "0  Afghanistan          AFG  2000            27.501127   \n",
       "1  Afghanistan          AFG  2001            27.501127   \n",
       "2  Afghanistan          AFG  2002            38.627892   \n",
       "3  Afghanistan          AFG  2003            37.418855   \n",
       "4  Afghanistan          AFG  2004            29.721067   \n",
       "\n",
       "   Ease of Doing Business  Education Expenditure (% GDP)  Export (% GDP)  \\\n",
       "0               40.717968                      13.670101             NaN   \n",
       "1               40.717968                      13.670101             NaN   \n",
       "2               40.717968                      13.670101             NaN   \n",
       "3               40.717968                      13.670101             NaN   \n",
       "4               40.717968                      13.670101             NaN   \n",
       "\n",
       "            GDP  Health Expenditure (% GDP)  Import (% GDP)  ...  Population  \\\n",
       "0  1.415197e+10                   10.902580             NaN  ...  19542982.0   \n",
       "1  1.415197e+10                   10.902580             NaN  ...  19688632.0   \n",
       "2  3.854235e+09                    9.443391             NaN  ...  21000256.0   \n",
       "3  4.539497e+09                    8.941258             NaN  ...  22645130.0   \n",
       "4  5.220825e+09                    9.808474             NaN  ...  23553551.0   \n",
       "\n",
       "       Land  Continent Name  Export  Import  Education Expenditure  \\\n",
       "0  652860.0            Asia     NaN     NaN           1.934589e+09   \n",
       "1  652860.0            Asia     NaN     NaN           1.934589e+09   \n",
       "2  652860.0            Asia     NaN     NaN           5.268779e+08   \n",
       "3  652860.0            Asia     NaN     NaN           6.205538e+08   \n",
       "4  652860.0            Asia     NaN     NaN           7.136921e+08   \n",
       "\n",
       "   Health Expenditure Net Trade  GDP Per Capita  Population Density  \n",
       "0        1.542930e+09       NaN      724.145910           29.934415  \n",
       "1        1.542930e+09       NaN      718.788917           30.157510  \n",
       "2        3.639705e+08       NaN      183.532775           32.166553  \n",
       "3        4.058881e+08       NaN      200.462376           34.686043  \n",
       "4        5.120832e+08       NaN      221.657662           36.077491  \n",
       "\n",
       "[5 rows x 25 columns]"
      ]
     },
     "execution_count": 2,
     "metadata": {},
     "output_type": "execute_result"
    }
   ],
   "source": [
    "# Load the data\n",
    "countries_df = pd.read_csv(\"Countries.csv\")\n",
    "countries_df.head()"
   ]
  },
  {
   "cell_type": "code",
   "execution_count": 3,
   "metadata": {},
   "outputs": [
    {
     "name": "stdout",
     "output_type": "stream",
     "text": [
      "<class 'pandas.core.frame.DataFrame'>\n",
      "RangeIndex: 5106 entries, 0 to 5105\n",
      "Data columns (total 25 columns):\n",
      " #   Column                         Non-Null Count  Dtype  \n",
      "---  ------                         --------------  -----  \n",
      " 0   Country Name                   5106 non-null   object \n",
      " 1   Country Code                   5106 non-null   object \n",
      " 2   Year                           5106 non-null   int64  \n",
      " 3   Agriculture (% GDP)            4830 non-null   float64\n",
      " 4   Ease of Doing Business         4508 non-null   float64\n",
      " 5   Education Expenditure (% GDP)  4738 non-null   float64\n",
      " 6   Export (% GDP)                 4646 non-null   float64\n",
      " 7   GDP                            5037 non-null   float64\n",
      " 8   Health Expenditure (% GDP)     4531 non-null   float64\n",
      " 9   Import (% GDP)                 4646 non-null   float64\n",
      " 10  Industry (% GDP)               4853 non-null   float64\n",
      " 11  Inflation Rate                 4554 non-null   float64\n",
      " 12  R&D                            3588 non-null   float64\n",
      " 13  Service (% GDP)                4807 non-null   float64\n",
      " 14  Unemployment                   4439 non-null   float64\n",
      " 15  Population                     5106 non-null   float64\n",
      " 16  Land                           5106 non-null   float64\n",
      " 17  Continent Name                 5106 non-null   object \n",
      " 18  Export                         4646 non-null   float64\n",
      " 19  Import                         4646 non-null   float64\n",
      " 20  Education Expenditure          4692 non-null   float64\n",
      " 21  Health Expenditure             4531 non-null   float64\n",
      " 22  Net Trade                      4646 non-null   float64\n",
      " 23  GDP Per Capita                 5037 non-null   float64\n",
      " 24  Population Density             5106 non-null   float64\n",
      "dtypes: float64(21), int64(1), object(3)\n",
      "memory usage: 997.4+ KB\n"
     ]
    }
   ],
   "source": [
    "countries_df.info()"
   ]
  },
  {
   "cell_type": "code",
   "execution_count": 4,
   "metadata": {},
   "outputs": [],
   "source": [
    "COUNTRY_INTERESTED_FACTORS = [\"Country Name\", \"Year\", \"GDP\", \"GDP Per Capita\", \"Health Expenditure\"]"
   ]
  },
  {
   "cell_type": "markdown",
   "metadata": {
    "id": "hoUjq1tPzz7P"
   },
   "source": [
    "#### **Dataset 2 - [Life expectancy around the world](https://www.kaggle.com/datasets/mahdiehhajian/life-expectancy-around-the-world?select=life-expectancy.csv)**\n",
    "\n",
    "Type: CSV File\n",
    "\n",
    "Method: The data was gathered using the \"Download\" button from the Kaggle dashboard\n",
    "\n",
    "Dataset variables:\n",
    "\n",
    "*   Country and year\n",
    "*   Life expectancy at birth, regardless of gender   "
   ]
  },
  {
   "cell_type": "code",
   "execution_count": 5,
   "metadata": {
    "id": "6zT0QxRyYmm7"
   },
   "outputs": [
    {
     "data": {
      "text/html": [
       "<div>\n",
       "<style scoped>\n",
       "    .dataframe tbody tr th:only-of-type {\n",
       "        vertical-align: middle;\n",
       "    }\n",
       "\n",
       "    .dataframe tbody tr th {\n",
       "        vertical-align: top;\n",
       "    }\n",
       "\n",
       "    .dataframe thead th {\n",
       "        text-align: right;\n",
       "    }\n",
       "</style>\n",
       "<table border=\"1\" class=\"dataframe\">\n",
       "  <thead>\n",
       "    <tr style=\"text-align: right;\">\n",
       "      <th></th>\n",
       "      <th>Entity</th>\n",
       "      <th>Code</th>\n",
       "      <th>Year</th>\n",
       "      <th>Period life expectancy at birth - Sex: all - Age: 0</th>\n",
       "    </tr>\n",
       "  </thead>\n",
       "  <tbody>\n",
       "    <tr>\n",
       "      <th>0</th>\n",
       "      <td>Afghanistan</td>\n",
       "      <td>AFG</td>\n",
       "      <td>1950</td>\n",
       "      <td>27.7275</td>\n",
       "    </tr>\n",
       "    <tr>\n",
       "      <th>1</th>\n",
       "      <td>Afghanistan</td>\n",
       "      <td>AFG</td>\n",
       "      <td>1951</td>\n",
       "      <td>27.9634</td>\n",
       "    </tr>\n",
       "    <tr>\n",
       "      <th>2</th>\n",
       "      <td>Afghanistan</td>\n",
       "      <td>AFG</td>\n",
       "      <td>1952</td>\n",
       "      <td>28.4456</td>\n",
       "    </tr>\n",
       "    <tr>\n",
       "      <th>3</th>\n",
       "      <td>Afghanistan</td>\n",
       "      <td>AFG</td>\n",
       "      <td>1953</td>\n",
       "      <td>28.9304</td>\n",
       "    </tr>\n",
       "    <tr>\n",
       "      <th>4</th>\n",
       "      <td>Afghanistan</td>\n",
       "      <td>AFG</td>\n",
       "      <td>1954</td>\n",
       "      <td>29.2258</td>\n",
       "    </tr>\n",
       "  </tbody>\n",
       "</table>\n",
       "</div>"
      ],
      "text/plain": [
       "        Entity Code  Year  Period life expectancy at birth - Sex: all - Age: 0\n",
       "0  Afghanistan  AFG  1950                                            27.7275  \n",
       "1  Afghanistan  AFG  1951                                            27.9634  \n",
       "2  Afghanistan  AFG  1952                                            28.4456  \n",
       "3  Afghanistan  AFG  1953                                            28.9304  \n",
       "4  Afghanistan  AFG  1954                                            29.2258  "
      ]
     },
     "execution_count": 5,
     "metadata": {},
     "output_type": "execute_result"
    }
   ],
   "source": [
    "life_exp_df = pd.read_csv(\"life-expectancy.csv\")\n",
    "life_exp_df.head()"
   ]
  },
  {
   "cell_type": "code",
   "execution_count": 6,
   "metadata": {},
   "outputs": [
    {
     "name": "stdout",
     "output_type": "stream",
     "text": [
      "<class 'pandas.core.frame.DataFrame'>\n",
      "RangeIndex: 20755 entries, 0 to 20754\n",
      "Data columns (total 4 columns):\n",
      " #   Column                                               Non-Null Count  Dtype  \n",
      "---  ------                                               --------------  -----  \n",
      " 0   Entity                                               20755 non-null  object \n",
      " 1   Code                                                 19061 non-null  object \n",
      " 2   Year                                                 20755 non-null  int64  \n",
      " 3   Period life expectancy at birth - Sex: all - Age: 0  20755 non-null  float64\n",
      "dtypes: float64(1), int64(1), object(2)\n",
      "memory usage: 648.7+ KB\n"
     ]
    }
   ],
   "source": [
    "life_exp_df.info()"
   ]
  },
  {
   "cell_type": "code",
   "execution_count": 7,
   "metadata": {},
   "outputs": [],
   "source": [
    "LIFE_EXP_INTERESTED_FACTORS = [\"Entity\", \"Year\", \"Period life expectancy at birth - Sex: all - Age: 0\"]"
   ]
  },
  {
   "cell_type": "markdown",
   "metadata": {},
   "source": [
    "Optional data storing step: You may save your raw dataset files to the local data store before moving to the next step."
   ]
  },
  {
   "cell_type": "code",
   "execution_count": 128,
   "metadata": {},
   "outputs": [],
   "source": [
    "#Optional: store the raw data in your local data store\n",
    "!mkdir -p data/raw\n",
    "!mv Countries.csv data/raw\n",
    "!mv life-expectancy.csv data/raw"
   ]
  },
  {
   "cell_type": "markdown",
   "metadata": {
    "id": "QwSWIVmotLgV"
   },
   "source": [
    "## 2. Assess data\n",
    "\n",
    "Assess the data according to data quality and tidiness metrics using the report below.\n",
    "\n",
    "List **two** data quality issues and **two** tidiness issues. Assess each data issue visually **and** programmatically, then briefly describe the issue you find.  **Make sure you include justifications for the methods you use for the assessment.**"
   ]
  },
  {
   "cell_type": "markdown",
   "metadata": {
    "id": "adaK2iPNzVu4"
   },
   "source": [
    "### Quality Issue 1:"
   ]
  },
  {
   "cell_type": "code",
   "execution_count": 8,
   "metadata": {
    "id": "SpW59kh-zl8d"
   },
   "outputs": [
    {
     "name": "stdout",
     "output_type": "stream",
     "text": [
      "<class 'pandas.core.frame.DataFrame'>\n",
      "RangeIndex: 5106 entries, 0 to 5105\n",
      "Data columns (total 5 columns):\n",
      " #   Column              Non-Null Count  Dtype  \n",
      "---  ------              --------------  -----  \n",
      " 0   Country Name        5106 non-null   object \n",
      " 1   Year                5106 non-null   int64  \n",
      " 2   GDP                 5037 non-null   float64\n",
      " 3   GDP Per Capita      5037 non-null   float64\n",
      " 4   Health Expenditure  4531 non-null   float64\n",
      "dtypes: float64(3), int64(1), object(1)\n",
      "memory usage: 199.6+ KB\n"
     ]
    }
   ],
   "source": [
    "countries_df[COUNTRY_INTERESTED_FACTORS].info()"
   ]
  },
  {
   "cell_type": "code",
   "execution_count": 9,
   "metadata": {},
   "outputs": [
    {
     "data": {
      "text/plain": [
       "Country Name            0\n",
       "Year                    0\n",
       "GDP                    69\n",
       "GDP Per Capita         69\n",
       "Health Expenditure    575\n",
       "dtype: int64"
      ]
     },
     "execution_count": 9,
     "metadata": {},
     "output_type": "execute_result"
    }
   ],
   "source": [
    "countries_df[COUNTRY_INTERESTED_FACTORS].isnull().sum()"
   ]
  },
  {
   "cell_type": "markdown",
   "metadata": {},
   "source": [
    "**Issue**: The analysis focus about factors like GDP per capita, Inflation Rate, Health Expenditure and Economics activities. Among those factor, \"Inflation Rate\" and \"Health Expenditure\" have the most significant number of null values (i.e missing values), which are above five hundreds occurences. Other columns have lower number of missing values, ranging from two hundreds to about 69 occurences. These missing values could probably affect the result of the analysis\n",
    "\n",
    "**Justification**: All of the interested columns contains missing values above are crucial for the analysis. Therefore, it is essential to either fill in these missing values or decide on an appropriate method to handle them such as by removing rows that contain missing values "
   ]
  },
  {
   "cell_type": "markdown",
   "metadata": {
    "id": "8Be77N4I1AmE"
   },
   "source": [
    "### Quality Issue 2:"
   ]
  },
  {
   "cell_type": "code",
   "execution_count": 10,
   "metadata": {
    "id": "iMhHyiyLM2I3"
   },
   "outputs": [
    {
     "data": {
      "text/plain": [
       "161"
      ]
     },
     "execution_count": 10,
     "metadata": {},
     "output_type": "execute_result"
    }
   ],
   "source": [
    "# Examining the uniqueness of the data\n",
    "countries_df[[\"Country Name\", \"Country Code\", \"Year\"]].duplicated().sum()"
   ]
  },
  {
   "cell_type": "code",
   "execution_count": 11,
   "metadata": {},
   "outputs": [
    {
     "data": {
      "text/plain": [
       "161"
      ]
     },
     "execution_count": 11,
     "metadata": {},
     "output_type": "execute_result"
    }
   ],
   "source": [
    "# I wonder maybe those duplicates are part of the missing values above, let's check to see if that's the case\n",
    "countries_df.dropna()[[\"Country Name\", \"Country Code\", \"Year\"]].duplicated().sum()"
   ]
  },
  {
   "cell_type": "markdown",
   "metadata": {},
   "source": [
    "**Issue**: There are 161 duplicated rows in the dataset. These rows are different from the null values. These duplicated rows will affect the analysis result.\n",
    "\n",
    "**Justification**: We will drop these duplicated rows to ensure the uniqueness quality of the data"
   ]
  },
  {
   "cell_type": "markdown",
   "metadata": {
    "id": "lXhGiYyiwwKN"
   },
   "source": [
    "### Tidiness Issue 1:"
   ]
  },
  {
   "cell_type": "code",
   "execution_count": 12,
   "metadata": {
    "id": "fleC5rORI0Xl"
   },
   "outputs": [
    {
     "name": "stdout",
     "output_type": "stream",
     "text": [
      "Columns in countries_df: \n"
     ]
    },
    {
     "data": {
      "text/plain": [
       "Index(['Country Name', 'Country Code', 'Year', 'Agriculture (% GDP)',\n",
       "       'Ease of Doing Business', 'Education Expenditure (% GDP)',\n",
       "       'Export (% GDP)', 'GDP', 'Health Expenditure (% GDP)', 'Import (% GDP)',\n",
       "       'Industry (% GDP)', 'Inflation Rate', 'R&D', 'Service (% GDP)',\n",
       "       'Unemployment', 'Population', 'Land', 'Continent Name', 'Export',\n",
       "       'Import', 'Education Expenditure', 'Health Expenditure', 'Net Trade',\n",
       "       'GDP Per Capita', 'Population Density'],\n",
       "      dtype='object')"
      ]
     },
     "execution_count": 12,
     "metadata": {},
     "output_type": "execute_result"
    }
   ],
   "source": [
    "print(\"Columns in countries_df: \")\n",
    "countries_df.columns"
   ]
  },
  {
   "cell_type": "code",
   "execution_count": 13,
   "metadata": {
    "id": "BTuQw7Rbsio4"
   },
   "outputs": [
    {
     "name": "stdout",
     "output_type": "stream",
     "text": [
      "Number of unique countries: 215. \n",
      "E.G: Afghanistan, Albania, Algeria, American Samoa, Andorra, ...\n"
     ]
    }
   ],
   "source": [
    "countries = list(countries_df[\"Country Name\"].unique())\n",
    "print(f\"Number of unique countries: {len(countries)}. \\nE.G: {', '.join(countries[:5])}, ...\")\n"
   ]
  },
  {
   "cell_type": "markdown",
   "metadata": {},
   "source": [
    "**Issue and Justification**: Many columns like Country Code, Import, Export, ... are considered non-neccessary for the purpose of analyzing the life expectancy of a country and should be removed to make the dataframe cleaner. Other than that, there are around 215 different countries in the dataset, however, this analysis only care for Zimbabwe, so it should also be filtered to make the dataframe more concise."
   ]
  },
  {
   "cell_type": "markdown",
   "metadata": {
    "id": "4ffMoRGSwzYj"
   },
   "source": [
    "### Tidiness Issue 2: "
   ]
  },
  {
   "cell_type": "code",
   "execution_count": 14,
   "metadata": {
    "id": "XUpeoqokw5Qt"
   },
   "outputs": [
    {
     "data": {
      "text/html": [
       "<div>\n",
       "<style scoped>\n",
       "    .dataframe tbody tr th:only-of-type {\n",
       "        vertical-align: middle;\n",
       "    }\n",
       "\n",
       "    .dataframe tbody tr th {\n",
       "        vertical-align: top;\n",
       "    }\n",
       "\n",
       "    .dataframe thead th {\n",
       "        text-align: right;\n",
       "    }\n",
       "</style>\n",
       "<table border=\"1\" class=\"dataframe\">\n",
       "  <thead>\n",
       "    <tr style=\"text-align: right;\">\n",
       "      <th></th>\n",
       "      <th>Country Name</th>\n",
       "      <th>Year</th>\n",
       "      <th>GDP</th>\n",
       "      <th>GDP Per Capita</th>\n",
       "      <th>Health Expenditure</th>\n",
       "    </tr>\n",
       "  </thead>\n",
       "  <tbody>\n",
       "    <tr>\n",
       "      <th>0</th>\n",
       "      <td>Afghanistan</td>\n",
       "      <td>2000</td>\n",
       "      <td>1.415197e+10</td>\n",
       "      <td>724.145910</td>\n",
       "      <td>1.542930e+09</td>\n",
       "    </tr>\n",
       "    <tr>\n",
       "      <th>1</th>\n",
       "      <td>Afghanistan</td>\n",
       "      <td>2001</td>\n",
       "      <td>1.415197e+10</td>\n",
       "      <td>718.788917</td>\n",
       "      <td>1.542930e+09</td>\n",
       "    </tr>\n",
       "    <tr>\n",
       "      <th>2</th>\n",
       "      <td>Afghanistan</td>\n",
       "      <td>2002</td>\n",
       "      <td>3.854235e+09</td>\n",
       "      <td>183.532775</td>\n",
       "      <td>3.639705e+08</td>\n",
       "    </tr>\n",
       "    <tr>\n",
       "      <th>3</th>\n",
       "      <td>Afghanistan</td>\n",
       "      <td>2003</td>\n",
       "      <td>4.539497e+09</td>\n",
       "      <td>200.462376</td>\n",
       "      <td>4.058881e+08</td>\n",
       "    </tr>\n",
       "    <tr>\n",
       "      <th>4</th>\n",
       "      <td>Afghanistan</td>\n",
       "      <td>2004</td>\n",
       "      <td>5.220825e+09</td>\n",
       "      <td>221.657662</td>\n",
       "      <td>5.120832e+08</td>\n",
       "    </tr>\n",
       "  </tbody>\n",
       "</table>\n",
       "</div>"
      ],
      "text/plain": [
       "  Country Name  Year           GDP  GDP Per Capita  Health Expenditure\n",
       "0  Afghanistan  2000  1.415197e+10      724.145910        1.542930e+09\n",
       "1  Afghanistan  2001  1.415197e+10      718.788917        1.542930e+09\n",
       "2  Afghanistan  2002  3.854235e+09      183.532775        3.639705e+08\n",
       "3  Afghanistan  2003  4.539497e+09      200.462376        4.058881e+08\n",
       "4  Afghanistan  2004  5.220825e+09      221.657662        5.120832e+08"
      ]
     },
     "execution_count": 14,
     "metadata": {},
     "output_type": "execute_result"
    }
   ],
   "source": [
    "countries_df[COUNTRY_INTERESTED_FACTORS].head()"
   ]
  },
  {
   "cell_type": "code",
   "execution_count": 15,
   "metadata": {
    "id": "c8JK4DoXxtFA"
   },
   "outputs": [
    {
     "data": {
      "text/html": [
       "<div>\n",
       "<style scoped>\n",
       "    .dataframe tbody tr th:only-of-type {\n",
       "        vertical-align: middle;\n",
       "    }\n",
       "\n",
       "    .dataframe tbody tr th {\n",
       "        vertical-align: top;\n",
       "    }\n",
       "\n",
       "    .dataframe thead th {\n",
       "        text-align: right;\n",
       "    }\n",
       "</style>\n",
       "<table border=\"1\" class=\"dataframe\">\n",
       "  <thead>\n",
       "    <tr style=\"text-align: right;\">\n",
       "      <th></th>\n",
       "      <th>Entity</th>\n",
       "      <th>Year</th>\n",
       "      <th>Period life expectancy at birth - Sex: all - Age: 0</th>\n",
       "    </tr>\n",
       "  </thead>\n",
       "  <tbody>\n",
       "    <tr>\n",
       "      <th>0</th>\n",
       "      <td>Afghanistan</td>\n",
       "      <td>1950</td>\n",
       "      <td>27.7275</td>\n",
       "    </tr>\n",
       "    <tr>\n",
       "      <th>1</th>\n",
       "      <td>Afghanistan</td>\n",
       "      <td>1951</td>\n",
       "      <td>27.9634</td>\n",
       "    </tr>\n",
       "    <tr>\n",
       "      <th>2</th>\n",
       "      <td>Afghanistan</td>\n",
       "      <td>1952</td>\n",
       "      <td>28.4456</td>\n",
       "    </tr>\n",
       "    <tr>\n",
       "      <th>3</th>\n",
       "      <td>Afghanistan</td>\n",
       "      <td>1953</td>\n",
       "      <td>28.9304</td>\n",
       "    </tr>\n",
       "    <tr>\n",
       "      <th>4</th>\n",
       "      <td>Afghanistan</td>\n",
       "      <td>1954</td>\n",
       "      <td>29.2258</td>\n",
       "    </tr>\n",
       "  </tbody>\n",
       "</table>\n",
       "</div>"
      ],
      "text/plain": [
       "        Entity  Year  Period life expectancy at birth - Sex: all - Age: 0\n",
       "0  Afghanistan  1950                                            27.7275  \n",
       "1  Afghanistan  1951                                            27.9634  \n",
       "2  Afghanistan  1952                                            28.4456  \n",
       "3  Afghanistan  1953                                            28.9304  \n",
       "4  Afghanistan  1954                                            29.2258  "
      ]
     },
     "execution_count": 15,
     "metadata": {},
     "output_type": "execute_result"
    }
   ],
   "source": [
    "life_exp_df[LIFE_EXP_INTERESTED_FACTORS].head()"
   ]
  },
  {
   "cell_type": "markdown",
   "metadata": {},
   "source": [
    "**Issue and justification**: As we want to analyze the impact of economic factors on life expectancy and we are having 2 different dataframe, therefore, we should merge them together before doing analysis in order to fulfill the rule \"Each type of observational unit forms a table\". Beside, the column name that indicate the country, which we will use as the key to merge is different (\"Country Name\" vs \"Entity\")"
   ]
  },
  {
   "cell_type": "markdown",
   "metadata": {
    "id": "D6gmLnBttpCh"
   },
   "source": [
    "## 3. Clean data"
   ]
  },
  {
   "cell_type": "code",
   "execution_count": 16,
   "metadata": {},
   "outputs": [],
   "source": [
    "# FILL IN - Make copies of the datasets to ensure the raw dataframes \n",
    "# are not impacted\n",
    "cleaned_countries_df = countries_df.copy()\n",
    "cleaned_life_exp_df = life_exp_df.copy()"
   ]
  },
  {
   "cell_type": "markdown",
   "metadata": {
    "id": "FmFhN52Yyn3l"
   },
   "source": [
    "### **Quality Issue 1: Missing values**"
   ]
  },
  {
   "cell_type": "code",
   "execution_count": 17,
   "metadata": {
    "id": "9UejDWrNMW4a"
   },
   "outputs": [],
   "source": [
    "# Remove missing values rows\n",
    "cleaned_countries_df = cleaned_countries_df.dropna(subset=COUNTRY_INTERESTED_FACTORS)\n",
    "cleaned_life_exp_df = cleaned_life_exp_df.dropna(subset=LIFE_EXP_INTERESTED_FACTORS)"
   ]
  },
  {
   "cell_type": "code",
   "execution_count": 18,
   "metadata": {
    "id": "oUBee-LPytkv"
   },
   "outputs": [
    {
     "name": "stdout",
     "output_type": "stream",
     "text": [
      "Countries_df: \n",
      "\t - Remove: 575 rows \n",
      "\t - Total missing values left: 3657\n",
      "Life_exp_df: \n",
      "\t - Remove: 0 rows \n",
      "\t - Total missing values left: 1694\n"
     ]
    },
    {
     "data": {
      "text/plain": [
       "Country Name                        0\n",
       "Country Code                        0\n",
       "Year                                0\n",
       "Agriculture (% GDP)                46\n",
       "Ease of Doing Business            138\n",
       "Education Expenditure (% GDP)     115\n",
       "Export (% GDP)                    299\n",
       "GDP                                 0\n",
       "Health Expenditure (% GDP)          0\n",
       "Import (% GDP)                    299\n",
       "Industry (% GDP)                   23\n",
       "Inflation Rate                    161\n",
       "R&D                              1173\n",
       "Service (% GDP)                    69\n",
       "Unemployment                      322\n",
       "Population                          0\n",
       "Land                                0\n",
       "Continent Name                      0\n",
       "Export                            299\n",
       "Import                            299\n",
       "Education Expenditure             115\n",
       "Health Expenditure                  0\n",
       "Net Trade                         299\n",
       "GDP Per Capita                      0\n",
       "Population Density                  0\n",
       "dtype: int64"
      ]
     },
     "execution_count": 18,
     "metadata": {},
     "output_type": "execute_result"
    }
   ],
   "source": [
    "# Validate the cleaning was successful\n",
    "print(f\"Countries_df: \\n\\t - Remove: {len(countries_df) - len(cleaned_countries_df)} rows \\n\\t - Total missing values left: {cleaned_countries_df.isnull().sum().sum()}\")\n",
    "print(f\"Life_exp_df: \\n\\t - Remove: {len(life_exp_df) - len(cleaned_life_exp_df)} rows \\n\\t - Total missing values left: {cleaned_life_exp_df.isnull().sum().sum()}\")\n",
    "cleaned_countries_df.isnull().sum()"
   ]
  },
  {
   "cell_type": "markdown",
   "metadata": {},
   "source": [
    "**Justification**: Remove missing values to ensures completeness of the dataset."
   ]
  },
  {
   "cell_type": "markdown",
   "metadata": {
    "id": "n_DAUbJrymBL"
   },
   "source": [
    "### **Quality Issue 2: Duplicates**"
   ]
  },
  {
   "cell_type": "code",
   "execution_count": 19,
   "metadata": {
    "id": "5Yfb-Yu5MTuE"
   },
   "outputs": [],
   "source": [
    "# Remove duplicates from the datasets\n",
    "n_before_countries_df = len(cleaned_countries_df)\n",
    "cleaned_countries_df = cleaned_countries_df.drop_duplicates([\"Country Name\", \"Country Code\", \"Year\"])\n",
    "\n",
    "n_before_life_exp_df = len(cleaned_life_exp_df)\n",
    "cleaned_life_exp_df = cleaned_life_exp_df.drop_duplicates([\"Entity\", \"Year\"])"
   ]
  },
  {
   "cell_type": "code",
   "execution_count": 20,
   "metadata": {
    "id": "ionB2sRaMUmY"
   },
   "outputs": [
    {
     "name": "stdout",
     "output_type": "stream",
     "text": [
      "Countries_df: \n",
      "\t - Remove: 161 rows \n",
      "\t - Total duplicates left: 0\n",
      "Life_exp_df: \n",
      "\t - Remove: 0 rows \n",
      "\t - Total duplicates left: 0\n"
     ]
    }
   ],
   "source": [
    "# Validate the cleaning was successful\n",
    "print(f\"Countries_df: \\n\\t - Remove: {n_before_countries_df - len(cleaned_countries_df)} rows \\n\\t - Total duplicates left: {cleaned_countries_df.duplicated(['Country Name', 'Country Code', 'Year']).sum()}\")\n",
    "print(f\"Life_exp_df: \\n\\t - Remove: {n_before_life_exp_df - len(cleaned_life_exp_df)} rows \\n\\t - Total duplicates left: {cleaned_life_exp_df.duplicated(['Entity', 'Year']).sum()}\")"
   ]
  },
  {
   "cell_type": "markdown",
   "metadata": {},
   "source": [
    "**Justification**: Make sure there is no duplicated observations in the dataset. This step ensures the uniqueness, as well as the accuracy property of the dataset"
   ]
  },
  {
   "cell_type": "code",
   "execution_count": 21,
   "metadata": {},
   "outputs": [
    {
     "data": {
      "text/html": [
       "<div>\n",
       "<style scoped>\n",
       "    .dataframe tbody tr th:only-of-type {\n",
       "        vertical-align: middle;\n",
       "    }\n",
       "\n",
       "    .dataframe tbody tr th {\n",
       "        vertical-align: top;\n",
       "    }\n",
       "\n",
       "    .dataframe thead th {\n",
       "        text-align: right;\n",
       "    }\n",
       "</style>\n",
       "<table border=\"1\" class=\"dataframe\">\n",
       "  <thead>\n",
       "    <tr style=\"text-align: right;\">\n",
       "      <th></th>\n",
       "      <th>Country Name</th>\n",
       "      <th>Country Code</th>\n",
       "      <th>Year</th>\n",
       "      <th>Agriculture (% GDP)</th>\n",
       "      <th>Ease of Doing Business</th>\n",
       "      <th>Education Expenditure (% GDP)</th>\n",
       "      <th>Export (% GDP)</th>\n",
       "      <th>GDP</th>\n",
       "      <th>Health Expenditure (% GDP)</th>\n",
       "      <th>Import (% GDP)</th>\n",
       "      <th>...</th>\n",
       "      <th>Population</th>\n",
       "      <th>Land</th>\n",
       "      <th>Continent Name</th>\n",
       "      <th>Export</th>\n",
       "      <th>Import</th>\n",
       "      <th>Education Expenditure</th>\n",
       "      <th>Health Expenditure</th>\n",
       "      <th>Net Trade</th>\n",
       "      <th>GDP Per Capita</th>\n",
       "      <th>Population Density</th>\n",
       "    </tr>\n",
       "  </thead>\n",
       "  <tbody>\n",
       "    <tr>\n",
       "      <th>0</th>\n",
       "      <td>Afghanistan</td>\n",
       "      <td>AFG</td>\n",
       "      <td>2000</td>\n",
       "      <td>27.501127</td>\n",
       "      <td>40.717968</td>\n",
       "      <td>13.670101</td>\n",
       "      <td>NaN</td>\n",
       "      <td>1.415197e+10</td>\n",
       "      <td>10.902580</td>\n",
       "      <td>NaN</td>\n",
       "      <td>...</td>\n",
       "      <td>19542982.0</td>\n",
       "      <td>652860.0</td>\n",
       "      <td>Asia</td>\n",
       "      <td>NaN</td>\n",
       "      <td>NaN</td>\n",
       "      <td>1.934589e+09</td>\n",
       "      <td>1.542930e+09</td>\n",
       "      <td>NaN</td>\n",
       "      <td>724.145910</td>\n",
       "      <td>29.934415</td>\n",
       "    </tr>\n",
       "    <tr>\n",
       "      <th>1</th>\n",
       "      <td>Afghanistan</td>\n",
       "      <td>AFG</td>\n",
       "      <td>2001</td>\n",
       "      <td>27.501127</td>\n",
       "      <td>40.717968</td>\n",
       "      <td>13.670101</td>\n",
       "      <td>NaN</td>\n",
       "      <td>1.415197e+10</td>\n",
       "      <td>10.902580</td>\n",
       "      <td>NaN</td>\n",
       "      <td>...</td>\n",
       "      <td>19688632.0</td>\n",
       "      <td>652860.0</td>\n",
       "      <td>Asia</td>\n",
       "      <td>NaN</td>\n",
       "      <td>NaN</td>\n",
       "      <td>1.934589e+09</td>\n",
       "      <td>1.542930e+09</td>\n",
       "      <td>NaN</td>\n",
       "      <td>718.788917</td>\n",
       "      <td>30.157510</td>\n",
       "    </tr>\n",
       "    <tr>\n",
       "      <th>2</th>\n",
       "      <td>Afghanistan</td>\n",
       "      <td>AFG</td>\n",
       "      <td>2002</td>\n",
       "      <td>38.627892</td>\n",
       "      <td>40.717968</td>\n",
       "      <td>13.670101</td>\n",
       "      <td>NaN</td>\n",
       "      <td>3.854235e+09</td>\n",
       "      <td>9.443391</td>\n",
       "      <td>NaN</td>\n",
       "      <td>...</td>\n",
       "      <td>21000256.0</td>\n",
       "      <td>652860.0</td>\n",
       "      <td>Asia</td>\n",
       "      <td>NaN</td>\n",
       "      <td>NaN</td>\n",
       "      <td>5.268779e+08</td>\n",
       "      <td>3.639705e+08</td>\n",
       "      <td>NaN</td>\n",
       "      <td>183.532775</td>\n",
       "      <td>32.166553</td>\n",
       "    </tr>\n",
       "    <tr>\n",
       "      <th>3</th>\n",
       "      <td>Afghanistan</td>\n",
       "      <td>AFG</td>\n",
       "      <td>2003</td>\n",
       "      <td>37.418855</td>\n",
       "      <td>40.717968</td>\n",
       "      <td>13.670101</td>\n",
       "      <td>NaN</td>\n",
       "      <td>4.539497e+09</td>\n",
       "      <td>8.941258</td>\n",
       "      <td>NaN</td>\n",
       "      <td>...</td>\n",
       "      <td>22645130.0</td>\n",
       "      <td>652860.0</td>\n",
       "      <td>Asia</td>\n",
       "      <td>NaN</td>\n",
       "      <td>NaN</td>\n",
       "      <td>6.205538e+08</td>\n",
       "      <td>4.058881e+08</td>\n",
       "      <td>NaN</td>\n",
       "      <td>200.462376</td>\n",
       "      <td>34.686043</td>\n",
       "    </tr>\n",
       "    <tr>\n",
       "      <th>4</th>\n",
       "      <td>Afghanistan</td>\n",
       "      <td>AFG</td>\n",
       "      <td>2004</td>\n",
       "      <td>29.721067</td>\n",
       "      <td>40.717968</td>\n",
       "      <td>13.670101</td>\n",
       "      <td>NaN</td>\n",
       "      <td>5.220825e+09</td>\n",
       "      <td>9.808474</td>\n",
       "      <td>NaN</td>\n",
       "      <td>...</td>\n",
       "      <td>23553551.0</td>\n",
       "      <td>652860.0</td>\n",
       "      <td>Asia</td>\n",
       "      <td>NaN</td>\n",
       "      <td>NaN</td>\n",
       "      <td>7.136921e+08</td>\n",
       "      <td>5.120832e+08</td>\n",
       "      <td>NaN</td>\n",
       "      <td>221.657662</td>\n",
       "      <td>36.077491</td>\n",
       "    </tr>\n",
       "  </tbody>\n",
       "</table>\n",
       "<p>5 rows × 25 columns</p>\n",
       "</div>"
      ],
      "text/plain": [
       "  Country Name Country Code  Year  Agriculture (% GDP)  \\\n",
       "0  Afghanistan          AFG  2000            27.501127   \n",
       "1  Afghanistan          AFG  2001            27.501127   \n",
       "2  Afghanistan          AFG  2002            38.627892   \n",
       "3  Afghanistan          AFG  2003            37.418855   \n",
       "4  Afghanistan          AFG  2004            29.721067   \n",
       "\n",
       "   Ease of Doing Business  Education Expenditure (% GDP)  Export (% GDP)  \\\n",
       "0               40.717968                      13.670101             NaN   \n",
       "1               40.717968                      13.670101             NaN   \n",
       "2               40.717968                      13.670101             NaN   \n",
       "3               40.717968                      13.670101             NaN   \n",
       "4               40.717968                      13.670101             NaN   \n",
       "\n",
       "            GDP  Health Expenditure (% GDP)  Import (% GDP)  ...  Population  \\\n",
       "0  1.415197e+10                   10.902580             NaN  ...  19542982.0   \n",
       "1  1.415197e+10                   10.902580             NaN  ...  19688632.0   \n",
       "2  3.854235e+09                    9.443391             NaN  ...  21000256.0   \n",
       "3  4.539497e+09                    8.941258             NaN  ...  22645130.0   \n",
       "4  5.220825e+09                    9.808474             NaN  ...  23553551.0   \n",
       "\n",
       "       Land  Continent Name  Export  Import  Education Expenditure  \\\n",
       "0  652860.0            Asia     NaN     NaN           1.934589e+09   \n",
       "1  652860.0            Asia     NaN     NaN           1.934589e+09   \n",
       "2  652860.0            Asia     NaN     NaN           5.268779e+08   \n",
       "3  652860.0            Asia     NaN     NaN           6.205538e+08   \n",
       "4  652860.0            Asia     NaN     NaN           7.136921e+08   \n",
       "\n",
       "   Health Expenditure Net Trade  GDP Per Capita  Population Density  \n",
       "0        1.542930e+09       NaN      724.145910           29.934415  \n",
       "1        1.542930e+09       NaN      718.788917           30.157510  \n",
       "2        3.639705e+08       NaN      183.532775           32.166553  \n",
       "3        4.058881e+08       NaN      200.462376           34.686043  \n",
       "4        5.120832e+08       NaN      221.657662           36.077491  \n",
       "\n",
       "[5 rows x 25 columns]"
      ]
     },
     "execution_count": 21,
     "metadata": {},
     "output_type": "execute_result"
    }
   ],
   "source": [
    "cleaned_countries_df.head()"
   ]
  },
  {
   "cell_type": "markdown",
   "metadata": {
    "id": "bIUrrfSNyOPR"
   },
   "source": [
    "### **Tidiness Issue 1: Redundant factors**"
   ]
  },
  {
   "cell_type": "code",
   "execution_count": 22,
   "metadata": {
    "id": "fib0zAm333bn"
   },
   "outputs": [],
   "source": [
    "# Remove redundant columns\n",
    "cleaned_countries_df = cleaned_countries_df[COUNTRY_INTERESTED_FACTORS]\n",
    "cleaned_life_exp_df = cleaned_life_exp_df[LIFE_EXP_INTERESTED_FACTORS]\n",
    "# Filter relevant columns value, keep only records for Zimbabwe in 2000-2021\n",
    "cleaned_countries_df = cleaned_countries_df[(cleaned_countries_df[\"Country Name\"] == \"Zimbabwe\") & (cleaned_countries_df[\"Year\"] >= 2000) & (cleaned_countries_df[\"Year\"] <= 2021)]\n",
    "cleaned_life_exp_df = cleaned_life_exp_df[(cleaned_life_exp_df[\"Entity\"] == \"Zimbabwe\") & (cleaned_life_exp_df[\"Year\"] >= 2000) & (cleaned_life_exp_df[\"Year\"] <= 2021)]"
   ]
  },
  {
   "cell_type": "code",
   "execution_count": 23,
   "metadata": {},
   "outputs": [
    {
     "data": {
      "text/html": [
       "<div>\n",
       "<style scoped>\n",
       "    .dataframe tbody tr th:only-of-type {\n",
       "        vertical-align: middle;\n",
       "    }\n",
       "\n",
       "    .dataframe tbody tr th {\n",
       "        vertical-align: top;\n",
       "    }\n",
       "\n",
       "    .dataframe thead th {\n",
       "        text-align: right;\n",
       "    }\n",
       "</style>\n",
       "<table border=\"1\" class=\"dataframe\">\n",
       "  <thead>\n",
       "    <tr style=\"text-align: right;\">\n",
       "      <th></th>\n",
       "      <th>Country Name</th>\n",
       "      <th>Year</th>\n",
       "      <th>GDP</th>\n",
       "      <th>GDP Per Capita</th>\n",
       "      <th>Health Expenditure</th>\n",
       "    </tr>\n",
       "  </thead>\n",
       "  <tbody>\n",
       "    <tr>\n",
       "      <th>5083</th>\n",
       "      <td>Zimbabwe</td>\n",
       "      <td>2000</td>\n",
       "      <td>6.689958e+09</td>\n",
       "      <td>565.284390</td>\n",
       "      <td>4.485554e+08</td>\n",
       "    </tr>\n",
       "    <tr>\n",
       "      <th>5084</th>\n",
       "      <td>Zimbabwe</td>\n",
       "      <td>2001</td>\n",
       "      <td>6.777385e+09</td>\n",
       "      <td>569.003209</td>\n",
       "      <td>4.544173e+08</td>\n",
       "    </tr>\n",
       "    <tr>\n",
       "      <th>5085</th>\n",
       "      <td>Zimbabwe</td>\n",
       "      <td>2002</td>\n",
       "      <td>6.342116e+09</td>\n",
       "      <td>529.186883</td>\n",
       "      <td>4.252330e+08</td>\n",
       "    </tr>\n",
       "    <tr>\n",
       "      <th>5086</th>\n",
       "      <td>Zimbabwe</td>\n",
       "      <td>2003</td>\n",
       "      <td>5.727592e+09</td>\n",
       "      <td>474.302201</td>\n",
       "      <td>3.840297e+08</td>\n",
       "    </tr>\n",
       "    <tr>\n",
       "      <th>5087</th>\n",
       "      <td>Zimbabwe</td>\n",
       "      <td>2004</td>\n",
       "      <td>5.805598e+09</td>\n",
       "      <td>477.399491</td>\n",
       "      <td>3.892599e+08</td>\n",
       "    </tr>\n",
       "  </tbody>\n",
       "</table>\n",
       "</div>"
      ],
      "text/plain": [
       "     Country Name  Year           GDP  GDP Per Capita  Health Expenditure\n",
       "5083     Zimbabwe  2000  6.689958e+09      565.284390        4.485554e+08\n",
       "5084     Zimbabwe  2001  6.777385e+09      569.003209        4.544173e+08\n",
       "5085     Zimbabwe  2002  6.342116e+09      529.186883        4.252330e+08\n",
       "5086     Zimbabwe  2003  5.727592e+09      474.302201        3.840297e+08\n",
       "5087     Zimbabwe  2004  5.805598e+09      477.399491        3.892599e+08"
      ]
     },
     "execution_count": 23,
     "metadata": {},
     "output_type": "execute_result"
    }
   ],
   "source": [
    "cleaned_countries_df.head()"
   ]
  },
  {
   "cell_type": "code",
   "execution_count": 24,
   "metadata": {},
   "outputs": [
    {
     "data": {
      "text/html": [
       "<div>\n",
       "<style scoped>\n",
       "    .dataframe tbody tr th:only-of-type {\n",
       "        vertical-align: middle;\n",
       "    }\n",
       "\n",
       "    .dataframe tbody tr th {\n",
       "        vertical-align: top;\n",
       "    }\n",
       "\n",
       "    .dataframe thead th {\n",
       "        text-align: right;\n",
       "    }\n",
       "</style>\n",
       "<table border=\"1\" class=\"dataframe\">\n",
       "  <thead>\n",
       "    <tr style=\"text-align: right;\">\n",
       "      <th></th>\n",
       "      <th>Entity</th>\n",
       "      <th>Year</th>\n",
       "      <th>Period life expectancy at birth - Sex: all - Age: 0</th>\n",
       "    </tr>\n",
       "  </thead>\n",
       "  <tbody>\n",
       "    <tr>\n",
       "      <th>20750</th>\n",
       "      <td>Zimbabwe</td>\n",
       "      <td>2017</td>\n",
       "      <td>60.7095</td>\n",
       "    </tr>\n",
       "    <tr>\n",
       "      <th>20751</th>\n",
       "      <td>Zimbabwe</td>\n",
       "      <td>2018</td>\n",
       "      <td>61.4141</td>\n",
       "    </tr>\n",
       "    <tr>\n",
       "      <th>20752</th>\n",
       "      <td>Zimbabwe</td>\n",
       "      <td>2019</td>\n",
       "      <td>61.2925</td>\n",
       "    </tr>\n",
       "    <tr>\n",
       "      <th>20753</th>\n",
       "      <td>Zimbabwe</td>\n",
       "      <td>2020</td>\n",
       "      <td>61.1242</td>\n",
       "    </tr>\n",
       "    <tr>\n",
       "      <th>20754</th>\n",
       "      <td>Zimbabwe</td>\n",
       "      <td>2021</td>\n",
       "      <td>59.2531</td>\n",
       "    </tr>\n",
       "  </tbody>\n",
       "</table>\n",
       "</div>"
      ],
      "text/plain": [
       "         Entity  Year  Period life expectancy at birth - Sex: all - Age: 0\n",
       "20750  Zimbabwe  2017                                            60.7095  \n",
       "20751  Zimbabwe  2018                                            61.4141  \n",
       "20752  Zimbabwe  2019                                            61.2925  \n",
       "20753  Zimbabwe  2020                                            61.1242  \n",
       "20754  Zimbabwe  2021                                            59.2531  "
      ]
     },
     "execution_count": 24,
     "metadata": {},
     "output_type": "execute_result"
    }
   ],
   "source": [
    "cleaned_life_exp_df.tail()"
   ]
  },
  {
   "cell_type": "markdown",
   "metadata": {},
   "source": [
    "**Justification**: Remove unneccessary columns and rows, to make the dataframe more concise"
   ]
  },
  {
   "cell_type": "markdown",
   "metadata": {},
   "source": [
    "### **Remove unnecessary variables and combine datasets**"
   ]
  },
  {
   "cell_type": "code",
   "execution_count": 25,
   "metadata": {},
   "outputs": [
    {
     "data": {
      "text/html": [
       "<div>\n",
       "<style scoped>\n",
       "    .dataframe tbody tr th:only-of-type {\n",
       "        vertical-align: middle;\n",
       "    }\n",
       "\n",
       "    .dataframe tbody tr th {\n",
       "        vertical-align: top;\n",
       "    }\n",
       "\n",
       "    .dataframe thead th {\n",
       "        text-align: right;\n",
       "    }\n",
       "</style>\n",
       "<table border=\"1\" class=\"dataframe\">\n",
       "  <thead>\n",
       "    <tr style=\"text-align: right;\">\n",
       "      <th></th>\n",
       "      <th>Country Name</th>\n",
       "      <th>Year</th>\n",
       "      <th>Life Expectancy</th>\n",
       "    </tr>\n",
       "  </thead>\n",
       "  <tbody>\n",
       "    <tr>\n",
       "      <th>20733</th>\n",
       "      <td>Zimbabwe</td>\n",
       "      <td>2000</td>\n",
       "      <td>44.6864</td>\n",
       "    </tr>\n",
       "    <tr>\n",
       "      <th>20734</th>\n",
       "      <td>Zimbabwe</td>\n",
       "      <td>2001</td>\n",
       "      <td>41.9572</td>\n",
       "    </tr>\n",
       "    <tr>\n",
       "      <th>20735</th>\n",
       "      <td>Zimbabwe</td>\n",
       "      <td>2002</td>\n",
       "      <td>44.5654</td>\n",
       "    </tr>\n",
       "    <tr>\n",
       "      <th>20736</th>\n",
       "      <td>Zimbabwe</td>\n",
       "      <td>2003</td>\n",
       "      <td>43.3926</td>\n",
       "    </tr>\n",
       "    <tr>\n",
       "      <th>20737</th>\n",
       "      <td>Zimbabwe</td>\n",
       "      <td>2004</td>\n",
       "      <td>44.5023</td>\n",
       "    </tr>\n",
       "  </tbody>\n",
       "</table>\n",
       "</div>"
      ],
      "text/plain": [
       "      Country Name  Year  Life Expectancy\n",
       "20733     Zimbabwe  2000          44.6864\n",
       "20734     Zimbabwe  2001          41.9572\n",
       "20735     Zimbabwe  2002          44.5654\n",
       "20736     Zimbabwe  2003          43.3926\n",
       "20737     Zimbabwe  2004          44.5023"
      ]
     },
     "execution_count": 25,
     "metadata": {},
     "output_type": "execute_result"
    }
   ],
   "source": [
    "# Rename columns\n",
    "cleaned_life_exp_df = cleaned_life_exp_df.rename(columns={\"Entity\": \"Country Name\", \"Period life expectancy at birth - Sex: all - Age: 0\": \"Life Expectancy\"})\n",
    "cleaned_life_exp_df.head()"
   ]
  },
  {
   "cell_type": "code",
   "execution_count": 26,
   "metadata": {},
   "outputs": [
    {
     "data": {
      "text/html": [
       "<div>\n",
       "<style scoped>\n",
       "    .dataframe tbody tr th:only-of-type {\n",
       "        vertical-align: middle;\n",
       "    }\n",
       "\n",
       "    .dataframe tbody tr th {\n",
       "        vertical-align: top;\n",
       "    }\n",
       "\n",
       "    .dataframe thead th {\n",
       "        text-align: right;\n",
       "    }\n",
       "</style>\n",
       "<table border=\"1\" class=\"dataframe\">\n",
       "  <thead>\n",
       "    <tr style=\"text-align: right;\">\n",
       "      <th></th>\n",
       "      <th>Country Name</th>\n",
       "      <th>Year</th>\n",
       "      <th>GDP</th>\n",
       "      <th>GDP Per Capita</th>\n",
       "      <th>Health Expenditure</th>\n",
       "      <th>Life Expectancy</th>\n",
       "    </tr>\n",
       "  </thead>\n",
       "  <tbody>\n",
       "    <tr>\n",
       "      <th>0</th>\n",
       "      <td>Zimbabwe</td>\n",
       "      <td>2000</td>\n",
       "      <td>6.689958e+09</td>\n",
       "      <td>565.284390</td>\n",
       "      <td>4.485554e+08</td>\n",
       "      <td>44.6864</td>\n",
       "    </tr>\n",
       "    <tr>\n",
       "      <th>1</th>\n",
       "      <td>Zimbabwe</td>\n",
       "      <td>2001</td>\n",
       "      <td>6.777385e+09</td>\n",
       "      <td>569.003209</td>\n",
       "      <td>4.544173e+08</td>\n",
       "      <td>41.9572</td>\n",
       "    </tr>\n",
       "    <tr>\n",
       "      <th>2</th>\n",
       "      <td>Zimbabwe</td>\n",
       "      <td>2002</td>\n",
       "      <td>6.342116e+09</td>\n",
       "      <td>529.186883</td>\n",
       "      <td>4.252330e+08</td>\n",
       "      <td>44.5654</td>\n",
       "    </tr>\n",
       "    <tr>\n",
       "      <th>3</th>\n",
       "      <td>Zimbabwe</td>\n",
       "      <td>2003</td>\n",
       "      <td>5.727592e+09</td>\n",
       "      <td>474.302201</td>\n",
       "      <td>3.840297e+08</td>\n",
       "      <td>43.3926</td>\n",
       "    </tr>\n",
       "    <tr>\n",
       "      <th>4</th>\n",
       "      <td>Zimbabwe</td>\n",
       "      <td>2004</td>\n",
       "      <td>5.805598e+09</td>\n",
       "      <td>477.399491</td>\n",
       "      <td>3.892599e+08</td>\n",
       "      <td>44.5023</td>\n",
       "    </tr>\n",
       "    <tr>\n",
       "      <th>5</th>\n",
       "      <td>Zimbabwe</td>\n",
       "      <td>2005</td>\n",
       "      <td>5.755215e+09</td>\n",
       "      <td>470.783761</td>\n",
       "      <td>3.858818e+08</td>\n",
       "      <td>44.7677</td>\n",
       "    </tr>\n",
       "    <tr>\n",
       "      <th>6</th>\n",
       "      <td>Zimbabwe</td>\n",
       "      <td>2006</td>\n",
       "      <td>5.443896e+09</td>\n",
       "      <td>441.498797</td>\n",
       "      <td>3.650082e+08</td>\n",
       "      <td>45.3635</td>\n",
       "    </tr>\n",
       "    <tr>\n",
       "      <th>7</th>\n",
       "      <td>Zimbabwe</td>\n",
       "      <td>2007</td>\n",
       "      <td>5.291950e+09</td>\n",
       "      <td>425.036842</td>\n",
       "      <td>3.548203e+08</td>\n",
       "      <td>45.6102</td>\n",
       "    </tr>\n",
       "    <tr>\n",
       "      <th>8</th>\n",
       "      <td>Zimbabwe</td>\n",
       "      <td>2008</td>\n",
       "      <td>4.415703e+09</td>\n",
       "      <td>351.839101</td>\n",
       "      <td>2.960687e+08</td>\n",
       "      <td>46.7232</td>\n",
       "    </tr>\n",
       "    <tr>\n",
       "      <th>9</th>\n",
       "      <td>Zimbabwe</td>\n",
       "      <td>2009</td>\n",
       "      <td>9.665793e+09</td>\n",
       "      <td>762.297960</td>\n",
       "      <td>6.480824e+08</td>\n",
       "      <td>48.0625</td>\n",
       "    </tr>\n",
       "    <tr>\n",
       "      <th>10</th>\n",
       "      <td>Zimbabwe</td>\n",
       "      <td>2010</td>\n",
       "      <td>1.204166e+10</td>\n",
       "      <td>937.840340</td>\n",
       "      <td>1.261464e+09</td>\n",
       "      <td>50.6523</td>\n",
       "    </tr>\n",
       "    <tr>\n",
       "      <th>11</th>\n",
       "      <td>Zimbabwe</td>\n",
       "      <td>2011</td>\n",
       "      <td>1.410192e+10</td>\n",
       "      <td>1082.615773</td>\n",
       "      <td>1.139842e+09</td>\n",
       "      <td>53.3470</td>\n",
       "    </tr>\n",
       "    <tr>\n",
       "      <th>12</th>\n",
       "      <td>Zimbabwe</td>\n",
       "      <td>2012</td>\n",
       "      <td>1.711485e+10</td>\n",
       "      <td>1290.193957</td>\n",
       "      <td>1.183997e+09</td>\n",
       "      <td>55.6263</td>\n",
       "    </tr>\n",
       "    <tr>\n",
       "      <th>13</th>\n",
       "      <td>Zimbabwe</td>\n",
       "      <td>2013</td>\n",
       "      <td>1.909102e+10</td>\n",
       "      <td>1408.367810</td>\n",
       "      <td>1.357258e+09</td>\n",
       "      <td>57.4577</td>\n",
       "    </tr>\n",
       "    <tr>\n",
       "      <th>14</th>\n",
       "      <td>Zimbabwe</td>\n",
       "      <td>2014</td>\n",
       "      <td>1.949552e+10</td>\n",
       "      <td>1407.034291</td>\n",
       "      <td>1.585429e+09</td>\n",
       "      <td>58.8460</td>\n",
       "    </tr>\n",
       "    <tr>\n",
       "      <th>15</th>\n",
       "      <td>Zimbabwe</td>\n",
       "      <td>2015</td>\n",
       "      <td>1.996312e+10</td>\n",
       "      <td>1410.329173</td>\n",
       "      <td>1.487218e+09</td>\n",
       "      <td>59.5911</td>\n",
       "    </tr>\n",
       "    <tr>\n",
       "      <th>16</th>\n",
       "      <td>Zimbabwe</td>\n",
       "      <td>2016</td>\n",
       "      <td>2.054868e+10</td>\n",
       "      <td>1421.787791</td>\n",
       "      <td>1.534256e+09</td>\n",
       "      <td>60.3059</td>\n",
       "    </tr>\n",
       "    <tr>\n",
       "      <th>17</th>\n",
       "      <td>Zimbabwe</td>\n",
       "      <td>2017</td>\n",
       "      <td>1.758489e+10</td>\n",
       "      <td>1192.107012</td>\n",
       "      <td>1.119029e+09</td>\n",
       "      <td>60.7095</td>\n",
       "    </tr>\n",
       "    <tr>\n",
       "      <th>18</th>\n",
       "      <td>Zimbabwe</td>\n",
       "      <td>2018</td>\n",
       "      <td>3.415607e+10</td>\n",
       "      <td>2269.177012</td>\n",
       "      <td>1.595231e+09</td>\n",
       "      <td>61.4141</td>\n",
       "    </tr>\n",
       "    <tr>\n",
       "      <th>19</th>\n",
       "      <td>Zimbabwe</td>\n",
       "      <td>2019</td>\n",
       "      <td>2.183223e+10</td>\n",
       "      <td>1421.868596</td>\n",
       "      <td>7.990086e+08</td>\n",
       "      <td>61.2925</td>\n",
       "    </tr>\n",
       "    <tr>\n",
       "      <th>20</th>\n",
       "      <td>Zimbabwe</td>\n",
       "      <td>2020</td>\n",
       "      <td>2.150970e+10</td>\n",
       "      <td>1372.696674</td>\n",
       "      <td>7.368322e+08</td>\n",
       "      <td>61.1242</td>\n",
       "    </tr>\n",
       "    <tr>\n",
       "      <th>21</th>\n",
       "      <td>Zimbabwe</td>\n",
       "      <td>2021</td>\n",
       "      <td>2.837124e+10</td>\n",
       "      <td>1773.920411</td>\n",
       "      <td>1.902265e+09</td>\n",
       "      <td>59.2531</td>\n",
       "    </tr>\n",
       "  </tbody>\n",
       "</table>\n",
       "</div>"
      ],
      "text/plain": [
       "   Country Name  Year           GDP  GDP Per Capita  Health Expenditure  \\\n",
       "0      Zimbabwe  2000  6.689958e+09      565.284390        4.485554e+08   \n",
       "1      Zimbabwe  2001  6.777385e+09      569.003209        4.544173e+08   \n",
       "2      Zimbabwe  2002  6.342116e+09      529.186883        4.252330e+08   \n",
       "3      Zimbabwe  2003  5.727592e+09      474.302201        3.840297e+08   \n",
       "4      Zimbabwe  2004  5.805598e+09      477.399491        3.892599e+08   \n",
       "5      Zimbabwe  2005  5.755215e+09      470.783761        3.858818e+08   \n",
       "6      Zimbabwe  2006  5.443896e+09      441.498797        3.650082e+08   \n",
       "7      Zimbabwe  2007  5.291950e+09      425.036842        3.548203e+08   \n",
       "8      Zimbabwe  2008  4.415703e+09      351.839101        2.960687e+08   \n",
       "9      Zimbabwe  2009  9.665793e+09      762.297960        6.480824e+08   \n",
       "10     Zimbabwe  2010  1.204166e+10      937.840340        1.261464e+09   \n",
       "11     Zimbabwe  2011  1.410192e+10     1082.615773        1.139842e+09   \n",
       "12     Zimbabwe  2012  1.711485e+10     1290.193957        1.183997e+09   \n",
       "13     Zimbabwe  2013  1.909102e+10     1408.367810        1.357258e+09   \n",
       "14     Zimbabwe  2014  1.949552e+10     1407.034291        1.585429e+09   \n",
       "15     Zimbabwe  2015  1.996312e+10     1410.329173        1.487218e+09   \n",
       "16     Zimbabwe  2016  2.054868e+10     1421.787791        1.534256e+09   \n",
       "17     Zimbabwe  2017  1.758489e+10     1192.107012        1.119029e+09   \n",
       "18     Zimbabwe  2018  3.415607e+10     2269.177012        1.595231e+09   \n",
       "19     Zimbabwe  2019  2.183223e+10     1421.868596        7.990086e+08   \n",
       "20     Zimbabwe  2020  2.150970e+10     1372.696674        7.368322e+08   \n",
       "21     Zimbabwe  2021  2.837124e+10     1773.920411        1.902265e+09   \n",
       "\n",
       "    Life Expectancy  \n",
       "0           44.6864  \n",
       "1           41.9572  \n",
       "2           44.5654  \n",
       "3           43.3926  \n",
       "4           44.5023  \n",
       "5           44.7677  \n",
       "6           45.3635  \n",
       "7           45.6102  \n",
       "8           46.7232  \n",
       "9           48.0625  \n",
       "10          50.6523  \n",
       "11          53.3470  \n",
       "12          55.6263  \n",
       "13          57.4577  \n",
       "14          58.8460  \n",
       "15          59.5911  \n",
       "16          60.3059  \n",
       "17          60.7095  \n",
       "18          61.4141  \n",
       "19          61.2925  \n",
       "20          61.1242  \n",
       "21          59.2531  "
      ]
     },
     "execution_count": 26,
     "metadata": {},
     "output_type": "execute_result"
    }
   ],
   "source": [
    "merged_df = pd.merge(cleaned_countries_df, cleaned_life_exp_df, on=[\"Country Name\", \"Year\"], how=\"inner\", validate=\"one_to_one\")\n",
    "merged_df"
   ]
  },
  {
   "cell_type": "markdown",
   "metadata": {
    "id": "F42urHuzttjF"
   },
   "source": [
    "## 4. Update your data store\n",
    "Update your local database/data store with the cleaned data, following best practices for storing your cleaned data:\n",
    "\n",
    "- Must maintain different instances / versions of data (raw and cleaned data)\n",
    "- Must name the dataset files informatively\n",
    "- Ensure both the raw and cleaned data is saved to your database/data store"
   ]
  },
  {
   "cell_type": "code",
   "execution_count": 27,
   "metadata": {
    "id": "V3uay7EJUV_L"
   },
   "outputs": [],
   "source": [
    "!mkdir -p data/processed\n",
    "cleaned_countries_df.to_csv(\"data/processed/cleaned_countries_zimbabwe_2000_2021.csv\", index=False)\n",
    "cleaned_life_exp_df.to_csv(\"data/processed/cleaned_life_exp_zimbabwe_2000_2021.csv\", index=False)"
   ]
  },
  {
   "cell_type": "markdown",
   "metadata": {
    "id": "cGy_yddGtzhM"
   },
   "source": [
    "## 5. Answer the research question"
   ]
  },
  {
   "cell_type": "markdown",
   "metadata": {
    "id": "gjedE4s4ZkEd"
   },
   "source": [
    "*Research question:* What is the factor that most influence the life expectancy of Zimbabwe from 2000-2021"
   ]
  },
  {
   "cell_type": "code",
   "execution_count": 31,
   "metadata": {
    "id": "Lkw3rW9kZmOm"
   },
   "outputs": [
    {
     "data": {
      "image/png": "[encoded data removed]",
      "text/plain": [
       "<Figure size 1200x600 with 1 Axes>"
      ]
     },
     "metadata": {},
     "output_type": "display_data"
    }
   ],
   "source": [
    "plt.figure(figsize=(12, 6))\n",
    "plt.plot(merged_df[\"Year\"], merged_df[\"Life Expectancy\"], marker=\"o\")\n",
    "plt.xlabel(\"Year\")\n",
    "plt.ylabel(\"Life Expectancy (years old)\")\n",
    "plt.title(\"Life expectancy of Zimbabwe throughout years\")\n",
    "plt.show()"
   ]
  },
  {
   "cell_type": "markdown",
   "metadata": {},
   "source": [
    "This plot show the life expectancy of Zimbabwe in 2000-2021. It is clearly that there is an upward trend in the number of year for the life expectancy. It was lower than 50 in the early 2000s, but nowaday, it has become over 60. Let see if GDP or Health Expenditure contribute to this number"
   ]
  },
  {
   "cell_type": "code",
   "execution_count": 32,
   "metadata": {
    "id": "6fdK_8ZGZm9R"
   },
   "outputs": [
    {
     "data": {
      "image/png": "[encoded data removed]",
      "text/plain": [
       "<Figure size 1200x600 with 1 Axes>"
      ]
     },
     "metadata": {},
     "output_type": "display_data"
    }
   ],
   "source": [
    "plt.figure(figsize=(12, 6))\n",
    "plt.plot(merged_df[\"Year\"], merged_df[\"GDP Per Capita\"], marker=\"o\")\n",
    "plt.xlabel(\"Year\")\n",
    "plt.ylabel(\"GDP Per Capita ($)\")\n",
    "plt.title(\"GDP Per Capita of Zimbabwe throughout years\")\n",
    "plt.show()"
   ]
  },
  {
   "cell_type": "markdown",
   "metadata": {},
   "source": [
    "It is clear that there also an upward trend in the GDP per capita of Zimbabwe residence. This also indicate the living standards of Zimbabwe have been improved in this period"
   ]
  },
  {
   "cell_type": "code",
   "execution_count": 33,
   "metadata": {},
   "outputs": [
    {
     "data": {
      "image/png": "[encoded data removed]",
      "text/plain": [
       "<Figure size 1200x600 with 1 Axes>"
      ]
     },
     "metadata": {},
     "output_type": "display_data"
    }
   ],
   "source": [
    "plt.figure(figsize=(12, 6))\n",
    "plt.plot(merged_df[\"Year\"], merged_df[\"Health Expenditure\"], marker=\"o\")\n",
    "plt.xlabel(\"Year\")\n",
    "plt.ylabel(\"Health Expenditure ($)\")\n",
    "plt.title(\"The amount of money Zimbabwe allocated to healthcare throughout years\")\n",
    "plt.show()"
   ]
  },
  {
   "cell_type": "markdown",
   "metadata": {},
   "source": [
    "It is clear that there also an upward trend in the anmount of money that Zimbabwe's government spend on community health care. This also highlight the commitment to public health of Zimbabwe"
   ]
  },
  {
   "cell_type": "code",
   "execution_count": 38,
   "metadata": {},
   "outputs": [
    {
     "data": {
      "text/html": [
       "<div>\n",
       "<style scoped>\n",
       "    .dataframe tbody tr th:only-of-type {\n",
       "        vertical-align: middle;\n",
       "    }\n",
       "\n",
       "    .dataframe tbody tr th {\n",
       "        vertical-align: top;\n",
       "    }\n",
       "\n",
       "    .dataframe thead th {\n",
       "        text-align: right;\n",
       "    }\n",
       "</style>\n",
       "<table border=\"1\" class=\"dataframe\">\n",
       "  <thead>\n",
       "    <tr style=\"text-align: right;\">\n",
       "      <th></th>\n",
       "      <th>GDP Per Capita</th>\n",
       "      <th>Health Expenditure</th>\n",
       "      <th>Life Expectancy</th>\n",
       "    </tr>\n",
       "  </thead>\n",
       "  <tbody>\n",
       "    <tr>\n",
       "      <th>GDP Per Capita</th>\n",
       "      <td>1.000000</td>\n",
       "      <td>0.887168</td>\n",
       "      <td>0.914693</td>\n",
       "    </tr>\n",
       "    <tr>\n",
       "      <th>Health Expenditure</th>\n",
       "      <td>0.887168</td>\n",
       "      <td>1.000000</td>\n",
       "      <td>0.818613</td>\n",
       "    </tr>\n",
       "    <tr>\n",
       "      <th>Life Expectancy</th>\n",
       "      <td>0.914693</td>\n",
       "      <td>0.818613</td>\n",
       "      <td>1.000000</td>\n",
       "    </tr>\n",
       "  </tbody>\n",
       "</table>\n",
       "</div>"
      ],
      "text/plain": [
       "                    GDP Per Capita  Health Expenditure  Life Expectancy\n",
       "GDP Per Capita            1.000000            0.887168         0.914693\n",
       "Health Expenditure        0.887168            1.000000         0.818613\n",
       "Life Expectancy           0.914693            0.818613         1.000000"
      ]
     },
     "execution_count": 38,
     "metadata": {},
     "output_type": "execute_result"
    }
   ],
   "source": [
    "# Correlation of the data\n",
    "merged_df[[\"GDP Per Capita\", \"Health Expenditure\", \"Life Expectancy\"]].corr()"
   ]
  },
  {
   "cell_type": "code",
   "execution_count": 60,
   "metadata": {},
   "outputs": [
    {
     "data": {
      "text/plain": [
       "Text(0.5, 0.98, 'Life Expectancy vs GDP Per Capita and Health Expenditure')"
      ]
     },
     "execution_count": 60,
     "metadata": {},
     "output_type": "execute_result"
    },
    {
     "data": {
      "image/png": "[encoded data removed]",
      "text/plain": [
       "<Figure size 800x600 with 2 Axes>"
      ]
     },
     "metadata": {},
     "output_type": "display_data"
    }
   ],
   "source": [
    "figure, axis = plt.subplots(2, 1, constrained_layout=True, figsize=(8, 6))\n",
    "axis[0].scatter(merged_df[\"Life Expectancy\"], merged_df[\"GDP Per Capita\"])\n",
    "axis[1].scatter(merged_df[\"Life Expectancy\"], merged_df[\"Health Expenditure\"])\n",
    "figure.supxlabel(\"Life Expectancy\")\n",
    "axis[0].set_ylabel(\"GDP Per Capita\")\n",
    "axis[1].set_ylabel(\"Health Expenditure\")\n",
    "figure.suptitle(\"Life Expectancy vs GDP Per Capita and Health Expenditure\")"
   ]
  },
  {
   "cell_type": "markdown",
   "metadata": {
    "id": "K5RgvMGUZoHn"
   },
   "source": [
    "The plots and the correlation number in the table illustrate that there are correlations between Life Expectancy and GDP Per Capita and Health Expenditure. In other words, there are correlation between the life expectancy of Zimbabwe resident and their life quality, living standard and government's commitment to society health"
   ]
  },
  {
   "cell_type": "markdown",
   "metadata": {
    "id": "0ezWXXZVj-TP"
   },
   "source": [
    "### **5.2:** Reflection\n",
    "Given more time for this project and these datasets, I would like to investigate more about other economic factors that influence on the life expectancy of Zimbabwe. There could be some economic trends in agriculture, industry and services. After that, I also would like to build a machine learning model with all the features founded to predict the life expectancy of people based on economic factors. Moreover, I will do the same research about other country that has lower life expectancy than other developed countries in the world"
   ]
  }
 ],
 "metadata": {
  "colab": {
   "provenance": []
  },
  "kernelspec": {
   "display_name": "misc311",
   "language": "python",
   "name": "python3"
  },
  "language_info": {
   "codemirror_mode": {
    "name": "ipython",
    "version": 3
   },
   "file_extension": ".py",
   "mimetype": "text/x-python",
   "name": "python",
   "nbconvert_exporter": "python",
   "pygments_lexer": "ipython3",
   "version": "3.11.7"
  }
 },
 "nbformat": 4,
 "nbformat_minor": 1
}
